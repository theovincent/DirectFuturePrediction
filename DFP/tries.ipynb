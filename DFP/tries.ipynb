{
 "cells": [
  {
   "cell_type": "code",
   "execution_count": 9,
   "metadata": {},
   "outputs": [
    {
     "data": {
      "text/plain": [
       "array([ 0,  2,  4,  6,  8, 10, 12, 14, 16, 18])"
      ]
     },
     "execution_count": 9,
     "metadata": {},
     "output_type": "execute_result"
    }
   ],
   "source": [
    "np.arange(10) * int(2)"
   ]
  },
  {
   "cell_type": "code",
   "execution_count": 3,
   "metadata": {},
   "outputs": [],
   "source": [
    "'''\n",
    "FutureTargetMaker makes targets for future prediction\n",
    "'''\n",
    "\n",
    "from __future__ import print_function\n",
    "import numpy as np\n",
    "\n",
    "\n",
    "class FutureTargetMaker:\n",
    "\n",
    "    def __init__(self, args):\n",
    "        ''' Object which makes targets of future measurements  \n",
    "            Parameters:\n",
    "                future_steps - list of future steps to use as targets (e.g [1,2,4] means we'll use steps [i+1, i+2, i+4] as targets for step i)\n",
    "                min_num_targs - minimum number of targets we want to have (matters when close to the end of the episode), non-available targets replaced by NANs \n",
    "                meas_to_predict - which of the measurements should go to the target\n",
    "        '''\n",
    "\n",
    "        # params\n",
    "        self.future_steps = np.array(sorted(args['future_steps'])).astype(np.uint32)\n",
    "        self.meas_to_predict = np.array(args['meas_to_predict']).astype(np.uint32)\n",
    "        self.min_num_targs = args['min_num_targs']\n",
    "        self.rwrd_schedule_type = args['rwrd_schedule_type']\n",
    "        self.invalid_targets_replacement = args['invalid_targets_replacement']\n",
    "        \n",
    "        if self.rwrd_schedule_type == 'exp':\n",
    "            gammas = np.array(args['gammas'])\n",
    "            self.rwrd_schedules = np.power(np.reshape(gammas, (-1,1)), np.reshape(np.arange(self.future_steps[-1]), (1,-1)))\n",
    "        else:\n",
    "            print('Unknown rwrd_schedule_type', self.rwrd_schedule_type)\n",
    "            raise\n",
    "        \n",
    "        self.num_reward_targets = self.rwrd_schedules.shape[0]\n",
    "        self.num_targets = len(self.meas_to_predict) + self.num_reward_targets\n",
    "        self.target_dim = self.num_targets * len(self.future_steps)\n",
    "        \n",
    "        self.target_names = []\n",
    "        for meas in self.meas_to_predict:\n",
    "            for step in self.future_steps:\n",
    "                self.target_names.append('meas%.1d_%.3d' % (meas, step))\n",
    "                \n",
    "        for nsched in range(self.rwrd_schedules.shape[0]):\n",
    "            for step in self.future_steps:\n",
    "                self.target_names.append('rwrd%.1d_%.3d' % (nsched, step))\n",
    "        \n",
    "        # experience memory needs to know this to know which indices are valid\n",
    "        if self.min_num_targs == 0:\n",
    "            self.min_future_frames = 0\n",
    "        else:\n",
    "            self.min_future_frames = self.future_steps[self.min_num_targs-1] \n",
    "    \n",
    "    def make_targets(self, indices, meas, rwrds, n_episode, meas_mean = None, meas_std = None):\n",
    "        ''' Make targets of future values \n",
    "            Args:\n",
    "            \n",
    "            So we only do targets if at least min_num_targs future steps are available, and we replace with nan's any unavailable observations\n",
    "            \n",
    "            Known bug: if experience memory is comparable in size with our future horizon for predicting, bad things may happen when going through the end of memory\n",
    "        '''\n",
    "        capacity = meas.shape[0]\n",
    "        targets = np.zeros((len(indices), self.num_targets, len(self.future_steps)), dtype='float32')\n",
    "        for ns, sample in enumerate(indices):\n",
    "            # measurement targets\n",
    "            curr_future_steps = (sample + self.future_steps) % capacity\n",
    "            if isinstance(meas_mean, np.ndarray) and isinstance(meas_std, np.ndarray):\n",
    "                targets[ns, :len(self.meas_to_predict), :] = ((meas[curr_future_steps][:, self.meas_to_predict] - meas[None,sample][:, self.meas_to_predict])/meas_std[:, self.meas_to_predict]).transpose()\n",
    "            else:\n",
    "                targets[ns, :len(self.meas_to_predict), :] = (meas[curr_future_steps][:, self.meas_to_predict] - meas[None,sample][:, self.meas_to_predict]).transpose()\n",
    "            \n",
    "            # Manage invalid samples\n",
    "            invalid_samples = (n_episode[curr_future_steps] != n_episode[sample])\n",
    "            if self.invalid_targets_replacement == 'nan':\n",
    "                targets[ns, :len(self.meas_to_predict), invalid_samples] = np.nan # make invalid the entries which fall into the following episodes\n",
    "            elif self.invalid_targets_replacement == 'last_valid':\n",
    "                targets[ns, :len(self.meas_to_predict), invalid_samples] = targets[ns, :len(self.meas_to_predict), np.argmax(invalid_samples)-1] # make invalid the entries which fall into the following episodes\n",
    "            else:\n",
    "                raise ArgumentException('Unknown invalid_targets_replacement')\n",
    "            \n",
    "            # reward targets\n",
    "            curr_future_window = np.arange(sample+1,sample+self.future_steps[-1]+1) % capacity\n",
    "            rwrds_cumsum = np.cumsum(np.reshape(rwrds[curr_future_window], (1,-1)) * self.rwrd_schedules, axis=1)\n",
    "            invalid_samples = (n_episode[curr_future_window] != n_episode[sample])\n",
    "            end_of_episode = np.argmax(invalid_samples) - 1\n",
    "            rwrds_cumsum[:, invalid_samples] = rwrds_cumsum[:,end_of_episode,np.newaxis]\n",
    "            targets[ns, len(self.meas_to_predict):, :] = rwrds_cumsum[:,self.future_steps - 1]\n",
    "            \n",
    "        return np.reshape(targets, (len(indices), self.target_dim))"
   ]
  },
  {
   "cell_type": "code",
   "execution_count": 6,
   "metadata": {},
   "outputs": [
    {
     "data": {
      "text/plain": [
       "array([0], dtype=uint32)"
      ]
     },
     "execution_count": 6,
     "metadata": {},
     "output_type": "execute_result"
    }
   ],
   "source": [
    "future_target_maker.meas_to_predict"
   ]
  },
  {
   "cell_type": "code",
   "execution_count": 4,
   "metadata": {},
   "outputs": [],
   "source": [
    "target_maker_args = {\n",
    "    \"future_steps\": [1, 2, 4, 8, 16, 32],\n",
    "    \"meas_to_predict\": [0],\n",
    "    \"min_num_targs\": 3,\n",
    "    \"rwrd_schedule_type\": \"exp\",\n",
    "    \"gammas\": [],\n",
    "    \"invalid_targets_replacement\": \"nan\",\n",
    "}\n",
    "\n",
    "future_target_maker = FutureTargetMaker(target_maker_args)"
   ]
  },
  {
   "cell_type": "code",
   "execution_count": 5,
   "metadata": {},
   "outputs": [
    {
     "data": {
      "text/plain": [
       "<__main__.FutureTargetMaker at 0x7fadb9b46b38>"
      ]
     },
     "execution_count": 5,
     "metadata": {},
     "output_type": "execute_result"
    }
   ],
   "source": [
    "future_target_maker"
   ]
  }
 ],
 "metadata": {
  "interpreter": {
   "hash": "391b3f265ec837edec0046532bfafcbf6ad8c5c8ff2f67c120c034d4717de18d"
  },
  "kernelspec": {
   "display_name": "Python 3.6.15 64-bit ('env_container': venv)",
   "language": "python",
   "name": "python3"
  },
  "language_info": {
   "codemirror_mode": {
    "name": "ipython",
    "version": 3
   },
   "file_extension": ".py",
   "mimetype": "text/x-python",
   "name": "python",
   "nbconvert_exporter": "python",
   "pygments_lexer": "ipython3",
   "version": "3.6.15"
  },
  "orig_nbformat": 4
 },
 "nbformat": 4,
 "nbformat_minor": 2
}
